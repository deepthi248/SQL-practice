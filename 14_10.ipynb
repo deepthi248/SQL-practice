{
 "cells": [
  {
   "cell_type": "code",
   "execution_count": 10,
   "id": "d25d32a8",
   "metadata": {},
   "outputs": [
    {
     "name": "stdout",
     "output_type": "stream",
     "text": [
      "2 4 6 8 10 12 14 16 18 20 22 24 26 28 30 32 34 36 38 40 42 44 46 48 50 52 "
     ]
    }
   ],
   "source": [
    "# Write a Python program to print all even numbers between 1 and 50 using a for loop.\n",
    "def print_even():\n",
    "    a=0;\n",
    "    while a <= 50:\n",
    "        a+=2;\n",
    "        print(a, end = \" \")\n",
    "\n",
    "print_even()"
   ]
  },
  {
   "cell_type": "markdown",
   "id": "e28a24bc",
   "metadata": {},
   "source": []
  },
  {
   "cell_type": "markdown",
   "id": "1ca77f37",
   "metadata": {},
   "source": []
  },
  {
   "cell_type": "code",
   "execution_count": 43,
   "id": "2d312d87",
   "metadata": {},
   "outputs": [
    {
     "name": "stdout",
     "output_type": "stream",
     "text": [
      "0\n"
     ]
    }
   ],
   "source": [
    "\t# <!-- Using a while loop, find the sum of digits of a given number. -->\n",
    "number = 0\n",
    "\n",
    "def sumOfDigits(num):\n",
    "\t if num < 9:\n",
    "\t \t return num\n",
    "\t else:\n",
    "\t\t result = 0\n",
    "\t\t num = str(number)\n",
    "\t\t for ch in num:\n",
    "\t\t\t result += int(ch)\n",
    "\t return result;\n",
    "print(sumOfDigits(number))\n"
   ]
  },
  {
   "cell_type": "code",
   "execution_count": null,
   "id": "035fbbd4",
   "metadata": {},
   "outputs": [
    {
     "name": "stdout",
     "output_type": "stream",
     "text": [
      "1 * 1 = 1 \n",
      "1 * 2 = 2 \n",
      "1 * 3 = 3 \n",
      "1 * 4 = 4 \n",
      "1 * 5 = 5 \n",
      "1 * 6 = 6 \n",
      "1 * 7 = 7 \n",
      "1 * 8 = 8 \n",
      "1 * 9 = 9 \n",
      "1 * 10 = 10 \n",
      "1 * 11 = 11 \n",
      "1 * 12 = 12 \n",
      "1 * 13 = 13 \n",
      "1 * 14 = 14 \n",
      "1 * 15 = 15 \n",
      "1 * 16 = 16 \n",
      "1 * 17 = 17 \n",
      "1 * 18 = 18 \n",
      "1 * 19 = 19 \n",
      "1 * 20 = 20 \n"
     ]
    }
   ],
   "source": [
    "# Write a program that prints the multiplication table of a given number using a for loop.\n",
    "\n",
    "def table(num):\n",
    "     for curr in range(1, 21):\n",
    "         print(f\"{num} * {curr} = {num*curr} \")\n",
    "\n",
    "\n",
    "\n",
    "table(1)"
   ]
  },
  {
   "cell_type": "code",
   "execution_count": null,
   "id": "1e28e794",
   "metadata": {},
   "outputs": [
    {
     "name": "stdout",
     "output_type": "stream",
     "text": [
      "15\n",
      "30\n",
      "45\n",
      "60\n",
      "75\n",
      "90\n"
     ]
    }
   ],
   "source": [
    "# Use a for loop with range() to print all numbers divisible by both 3 and 5 between 1–100.\n",
    "\n",
    "def fooboo():\n",
    "     for i in range(1, 101):\n",
    "         if i % 3 == 0 and i % 5 ==0:\n",
    "             print(i)\n",
    "\n",
    "fooboo()\n"
   ]
  },
  {
   "cell_type": "code",
   "execution_count": null,
   "id": "67588976",
   "metadata": {},
   "outputs": [
    {
     "name": "stdout",
     "output_type": "stream",
     "text": [
      "* \n",
      "* * \n",
      "* * * \n"
     ]
    }
   ],
   "source": [
    "# print. \n",
    "# *\n",
    "# **\n",
    "# ***\n",
    "# ****\n",
    "# ***** \n",
    "\n",
    "def printStars(row):\n",
    "    for i in range(1,row+1):\n",
    "         for y in range(1, i+1):\n",
    "             print(\"*\", end=\" \")    \n",
    "         i+=1\n",
    "         print(end =\"\\n\")\n",
    "\n",
    "\n",
    "\n",
    "printStars(3)"
   ]
  },
  {
   "cell_type": "code",
   "execution_count": 66,
   "id": "99d3e196",
   "metadata": {},
   "outputs": [
    {
     "name": "stdout",
     "output_type": "stream",
     "text": [
      "ihtpeeD\n",
      "ihtpeeD\n"
     ]
    }
   ],
   "source": [
    "# Use a loop to reverse a given string without using slicing ([::-1]).\n",
    "\n",
    "name = \"Deepthi\"\n",
    "\n",
    "def printReverse(name):\n",
    "    result = \"\"\n",
    "    for ch in name:\n",
    "         result = ch + result\n",
    "    return result\n",
    "\n",
    "print(printReverse(name))\n",
    "\n",
    "#using slicing [::-1]\n",
    " \n",
    "def printReverse_slicing(name):\n",
    "     return name[::-1]\n",
    "\n",
    "print(printReverse_slicing(name))"
   ]
  },
  {
   "cell_type": "code",
   "execution_count": 70,
   "id": "14496126",
   "metadata": {},
   "outputs": [
    {
     "name": "stdout",
     "output_type": "stream",
     "text": [
      "3\n"
     ]
    }
   ],
   "source": [
    "# Write a program that counts how many vowels are in a user-input string.\n",
    "\n",
    "vowels = ['a','e','i','o','u']\n",
    "\n",
    "def countVowels(word):\n",
    "     count =0\n",
    "     word = word.lower()\n",
    "     for ch in word:\n",
    "         if ch in vowels:\n",
    "             count+=1\n",
    "     return count\n",
    "        \n",
    "print(countVowels(\"parvathi\"))"
   ]
  },
  {
   "cell_type": "code",
   "execution_count": 71,
   "id": "feaa5d37",
   "metadata": {},
   "outputs": [
    {
     "name": "stdout",
     "output_type": "stream",
     "text": [
      "0 a\n",
      "1 b\n",
      "2 d\n",
      "3 f\n"
     ]
    }
   ],
   "source": [
    "# Use a for loop with enumerate() to print the index and element of a list.\n",
    "\n",
    "curr_list = ['a','b','d','f']\n",
    "\n",
    "def printList(curr_list):\n",
    "     for index, currValue in enumerate(curr_list):\n",
    "         print(index, currValue)\n",
    "\n",
    "\n",
    "\n",
    "\n",
    "printList(curr_list)\n",
    "\n"
   ]
  },
  {
   "cell_type": "code",
   "execution_count": 80,
   "id": "bedbc0fe",
   "metadata": {},
   "outputs": [
    {
     "name": "stdout",
     "output_type": "stream",
     "text": [
      "prime\n"
     ]
    }
   ],
   "source": [
    "#Prime Numbers  - Write a program to check whether a given number is prime using loops.\n",
    "\n",
    "number = 11\n",
    "\n",
    "def isPrime(number):\n",
    "    prime = True\n",
    "    for i in range(2, number):\n",
    "        if number%i == 0:\n",
    "            prime = False\n",
    "            break;\n",
    "    if prime:\n",
    "         return \"prime\"\n",
    "    else:\n",
    "         return \"Not prime\"\n",
    "\n",
    "print(isPrime(number))\n",
    "\n",
    "\n",
    "\n"
   ]
  },
  {
   "cell_type": "code",
   "execution_count": 85,
   "id": "57413067",
   "metadata": {},
   "outputs": [
    {
     "name": "stdout",
     "output_type": "stream",
     "text": [
      "['Deepthi', 'Meena', 'Rahul']\n"
     ]
    }
   ],
   "source": [
    "# dictionary \n",
    "students = {\n",
    "    \"Deepthi\": 92,\n",
    "    \"Arjun\": 67,\n",
    "    \"Meena\": 81,\n",
    "    \"Kiran\": 74,\n",
    "    \"Rahul\": 89,\n",
    "    \"Priya\": 55\n",
    "}\n",
    "\n",
    "\n",
    "def studentsWithDistinction(student):\n",
    "     for key,value in students.items():\n",
    "         if value >= 75:\n",
    "             print(key)\n",
    "\n",
    "# studentsWithDistinction(students)  \n",
    "\n",
    "result = []\n",
    "def studentsWithDistinction_list(student):\n",
    "     for key,value in students.items():\n",
    "         if value >= 75:\n",
    "             result.append(key)\n",
    "     return result\n",
    "\n",
    "print(studentsWithDistinction_list(students) )\n",
    "\n",
    "\n",
    "\n"
   ]
  }
 ],
 "metadata": {
  "kernelspec": {
   "display_name": "base",
   "language": "python",
   "name": "python3"
  },
  "language_info": {
   "codemirror_mode": {
    "name": "ipython",
    "version": 3
   },
   "file_extension": ".py",
   "mimetype": "text/x-python",
   "name": "python",
   "nbconvert_exporter": "python",
   "pygments_lexer": "ipython3",
   "version": "3.12.7"
  }
 },
 "nbformat": 4,
 "nbformat_minor": 5
}
